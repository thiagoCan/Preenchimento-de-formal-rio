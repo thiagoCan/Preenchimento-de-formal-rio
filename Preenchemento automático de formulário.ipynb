{
 "cells": [
  {
   "cell_type": "code",
   "execution_count": 53,
   "id": "69510559",
   "metadata": {},
   "outputs": [
    {
     "name": "stderr",
     "output_type": "stream",
     "text": [
      "C:\\Users\\MASTER\\AppData\\Local\\Temp/ipykernel_12788/1678892740.py:3: DeprecationWarning: executable_path has been deprecated, please pass in a Service object\n",
      "  navegador = webdriver.Chrome(r'C:\\Users\\MASTER\\Documents\\chromedriver.exe')\n"
     ]
    }
   ],
   "source": [
    "from selenium import webdriver\n",
    "\n",
    "navegador = webdriver.Chrome(r'C:\\Users\\MASTER\\Documents\\chromedriver.exe')\n",
    "url = 'https://docs.google.com/forms/d/e/1FAIpQLScNTy28o39Uq5iNQ-BBjTvcPQVxutwRQoQQ2-1Kma1jfUbGsg/viewform?usp=sf_link'\n",
    "navegador.get(url)"
   ]
  },
  {
   "cell_type": "code",
   "execution_count": 9,
   "id": "2f794c69",
   "metadata": {},
   "outputs": [],
   "source": [
    "import pandas as pd"
   ]
  },
  {
   "cell_type": "code",
   "execution_count": 43,
   "id": "46697415",
   "metadata": {},
   "outputs": [
    {
     "name": "stdout",
     "output_type": "stream",
     "text": [
      "<class 'pandas.core.frame.DataFrame'>\n",
      "RangeIndex: 14 entries, 0 to 13\n",
      "Data columns (total 4 columns):\n",
      " #   Column     Non-Null Count  Dtype \n",
      "---  ------     --------------  ----- \n",
      " 0   CPF        14 non-null     object\n",
      " 1   Email      14 non-null     object\n",
      " 2   Descrição  14 non-null     object\n",
      " 3   Valor      14 non-null     int64 \n",
      "dtypes: int64(1), object(3)\n",
      "memory usage: 576.0+ bytes\n"
     ]
    }
   ],
   "source": [
    "t = pd.read_csv('Emitir.csv', encoding='ISO-8859-1')\n",
    "t['CPF'] = t['CPF'].astype('object')\n",
    "t.info()"
   ]
  },
  {
   "cell_type": "code",
   "execution_count": 54,
   "id": "50d8fd74",
   "metadata": {},
   "outputs": [
    {
     "name": "stderr",
     "output_type": "stream",
     "text": [
      "C:\\Users\\MASTER\\AppData\\Local\\Temp/ipykernel_12788/1358197318.py:9: DeprecationWarning: find_element_by_* commands are deprecated. Please use find_element() instead\n",
      "  navegador.find_element_by_xpath(xpathCPF).send_keys(cpf)\n",
      "C:\\Users\\MASTER\\AppData\\Local\\Temp/ipykernel_12788/1358197318.py:13: DeprecationWarning: find_element_by_* commands are deprecated. Please use find_element() instead\n",
      "  navegador.find_element_by_xpath(xpathEmail).send_keys(email)\n",
      "C:\\Users\\MASTER\\AppData\\Local\\Temp/ipykernel_12788/1358197318.py:17: DeprecationWarning: find_element_by_* commands are deprecated. Please use find_element() instead\n",
      "  navegador.find_element_by_xpath(xpathDescri).send_keys(descrição)\n",
      "C:\\Users\\MASTER\\AppData\\Local\\Temp/ipykernel_12788/1358197318.py:21: DeprecationWarning: find_element_by_* commands are deprecated. Please use find_element() instead\n",
      "  navegador.find_element_by_xpath(xpathValor).send_keys(str(valor))\n",
      "C:\\Users\\MASTER\\AppData\\Local\\Temp/ipykernel_12788/1358197318.py:25: DeprecationWarning: find_element_by_* commands are deprecated. Please use find_element() instead\n",
      "  navegador.find_element_by_xpath(xpathEnviar).click()\n"
     ]
    }
   ],
   "source": [
    "for i, cpf in enumerate(t['CPF']):\n",
    "    email = t.loc[i, 'Email']\n",
    "    descrição = t.loc[i, 'Descrição']\n",
    "    valor = t.loc[i, 'Valor']\n",
    "\n",
    "    navegador.get(url)\n",
    "    #preencher CPF\n",
    "    xpathCPF = '//*[@id=\"mG61Hd\"]/div[2]/div/div[2]/div[1]/div/div/div[2]/div/div[1]/div/div[1]/input'\n",
    "    navegador.find_element_by_xpath(xpathCPF).send_keys(cpf)\n",
    "\n",
    "    #preencher email\n",
    "    xpathEmail = '//*[@id=\"mG61Hd\"]/div[2]/div/div[2]/div[2]/div/div/div[2]/div/div[1]/div/div[1]/input'\n",
    "    navegador.find_element_by_xpath(xpathEmail).send_keys(email)\n",
    "\n",
    "    #preencher descrição\n",
    "    xpathDescri = '//*[@id=\"mG61Hd\"]/div[2]/div/div[2]/div[3]/div/div/div[2]/div/div[1]/div/div[1]/input'\n",
    "    navegador.find_element_by_xpath(xpathDescri).send_keys(descrição)\n",
    "\n",
    "    #preencher valor\n",
    "    xpathValor = '//*[@id=\"mG61Hd\"]/div[2]/div/div[2]/div[4]/div/div/div[2]/div/div[1]/div/div[1]/input'\n",
    "    navegador.find_element_by_xpath(xpathValor).send_keys(str(valor))\n",
    "    \n",
    "    #precionar Enviar\n",
    "    xpathEnviar = '//*[@id=\"mG61Hd\"]/div[2]/div/div[3]/div[1]/div[1]/div/span/span'\n",
    "    navegador.find_element_by_xpath(xpathEnviar).click()"
   ]
  },
  {
   "cell_type": "code",
   "execution_count": 25,
   "id": "97abb4e8",
   "metadata": {},
   "outputs": [
    {
     "name": "stdout",
     "output_type": "stream",
     "text": [
      "<class 'pandas.core.frame.DataFrame'>\n",
      "RangeIndex: 14 entries, 0 to 13\n",
      "Data columns (total 4 columns):\n",
      " #   Column     Non-Null Count  Dtype \n",
      "---  ------     --------------  ----- \n",
      " 0   CPF        14 non-null     int64 \n",
      " 1   Email      14 non-null     object\n",
      " 2   Descrição  14 non-null     object\n",
      " 3   Valor      14 non-null     int64 \n",
      "dtypes: int64(2), object(2)\n",
      "memory usage: 576.0+ bytes\n"
     ]
    }
   ],
   "source": [
    "t.info()"
   ]
  },
  {
   "cell_type": "code",
   "execution_count": null,
   "id": "5ca3fbdc",
   "metadata": {},
   "outputs": [],
   "source": []
  }
 ],
 "metadata": {
  "kernelspec": {
   "display_name": "Python 3 (ipykernel)",
   "language": "python",
   "name": "python3"
  },
  "language_info": {
   "codemirror_mode": {
    "name": "ipython",
    "version": 3
   },
   "file_extension": ".py",
   "mimetype": "text/x-python",
   "name": "python",
   "nbconvert_exporter": "python",
   "pygments_lexer": "ipython3",
   "version": "3.10.1"
  }
 },
 "nbformat": 4,
 "nbformat_minor": 5
}
